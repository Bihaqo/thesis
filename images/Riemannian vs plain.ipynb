{
 "cells": [
  {
   "cell_type": "code",
   "execution_count": 33,
   "metadata": {
    "collapsed": false
   },
   "outputs": [
    {
     "name": "stdout",
     "output_type": "stream",
     "text": [
      "The autoreload extension is already loaded. To reload it, use:\n",
      "  %reload_ext autoreload\n"
     ]
    }
   ],
   "source": [
    "import sys\n",
    "import tt\n",
    "import numpy as np\n",
    "sys.path.append('../../')\n",
    "\n",
    "import brewer2mpl\n",
    "import matplotlib as mpl\n",
    "%matplotlib inline\n",
    "import matplotlib.pylab as plt\n",
    "from src.TTRegression import TTRegression\n",
    "from sklearn import metrics\n",
    "import utils\n",
    "import cPickle as pickle\n",
    "%load_ext autoreload\n",
    "\n",
    "%autoreload 2"
   ]
  },
  {
   "cell_type": "code",
   "execution_count": 2,
   "metadata": {
    "collapsed": false
   },
   "outputs": [
    {
     "name": "stdout",
     "output_type": "stream",
     "text": [
      "Reading the datasets...\n",
      "Car\n",
      "dataset len: 1728\n",
      "\n",
      "Original targets:\n",
      "unacc    1210\n",
      "acc       384\n",
      "good       69\n",
      "vgood      65\n",
      "Name: target, dtype: int64\n",
      "newHIV-1\n",
      "dataset len: 1625\n",
      "\n",
      "Original targets:\n",
      "-1    1250\n",
      " 1     375\n",
      "Name: 1, dtype: int64\n",
      "Chess\n",
      "dataset len: 3196\n",
      "\n",
      "Original targets:\n",
      "won      1669\n",
      "nowin    1527\n",
      "Name: 36, dtype: int64\n",
      "Prudential\n",
      "('Dataset len: ', (59381, 1584))\n",
      "car\n",
      "(1642, 21)\n",
      "prudential\n",
      "(56412, 1584)\n",
      "chess\n",
      "(3037, 73)\n",
      "hiv\n",
      "(1544, 160)\n"
     ]
    }
   ],
   "source": [
    "datasets = utils.load_datasets(0.95)"
   ]
  },
  {
   "cell_type": "markdown",
   "metadata": {},
   "source": [
    "# Learn"
   ]
  },
  {
   "cell_type": "code",
   "execution_count": 34,
   "metadata": {
    "collapsed": false
   },
   "outputs": [],
   "source": [
    "dataset_name = 'car'\n",
    "X_train = datasets[dataset_name]['scaled_x_train']\n",
    "y_train = datasets[dataset_name]['y_train']\n",
    "X_val = datasets[dataset_name]['scaled_x_test']\n",
    "y_val = datasets[dataset_name]['y_test']\n",
    "plain_sgd = {}\n",
    "riemannian_sgd = {}\n",
    "\n",
    "for batch_size in [-1, 100, 500]:\n",
    "    model = TTRegression('all-subsets', 'logistic', 4, 'sgd', max_iter=10000, verbose=1,\n",
    "                         fit_intercept=False, batch_size=batch_size, reg=0.)\n",
    "    model.fit_log_val(X_train, y_train, X_val, y_val)\n",
    "    plain_sgd[batch_size] = model\n",
    "    rieamannian_model = TTRegression('all-subsets', 'logistic', 4, 'riemannian-sgd', max_iter=800, verbose=1,\n",
    "                                     batch_size=batch_size, fit_intercept=False, reg=0.)\n",
    "    rieamannian_model.fit_log_val(X_train, y_train, X_val, y_val)\n",
    "    riemannian_sgd[batch_size] = rieamannian_model\n"
   ]
  },
  {
   "cell_type": "markdown",
   "metadata": {},
   "source": [
    "# Save"
   ]
  },
  {
   "cell_type": "code",
   "execution_count": 35,
   "metadata": {
    "collapsed": false
   },
   "outputs": [],
   "source": [
    "with open('riemannian_vs_plain.pickle', 'wb') as f:\n",
    "    obj = {'plain_sgd': plain_sgd, 'riemannian_sgd': riemannian_sgd, 'X': X_train, 'y': y_train, 'val_X': X_val, 'val_y': y_val}\n",
    "    pickle.dump(obj, f, protocol=pickle.HIGHEST_PROTOCOL)"
   ]
  },
  {
   "cell_type": "markdown",
   "metadata": {},
   "source": [
    "# Plot"
   ]
  },
  {
   "cell_type": "code",
   "execution_count": 162,
   "metadata": {
    "collapsed": false
   },
   "outputs": [],
   "source": [
    "params = {\n",
    "   'axes.labelsize': 8,\n",
    "   'font.size': 8,\n",
    "   'legend.fontsize': 10,\n",
    "   'xtick.labelsize': 10,\n",
    "   'ytick.labelsize': 10,\n",
    "   'text.usetex': False,\n",
    "   'figure.figsize': [3, 2.5]\n",
    "   }\n",
    "mpl.rcParams.update(params)"
   ]
  },
  {
   "cell_type": "code",
   "execution_count": null,
   "metadata": {
    "collapsed": false
   },
   "outputs": [],
   "source": []
  },
  {
   "cell_type": "code",
   "execution_count": 207,
   "metadata": {
    "collapsed": false
   },
   "outputs": [
    {
     "data": {
      "image/png": "[encoded data removed]",
      "text/plain": [
       "<matplotlib.figure.Figure at 0x7f65e79eddd0>"
      ]
     },
     "metadata": {},
     "output_type": "display_data"
    }
   ],
   "source": [
    "# bmap = brewer2mpl.get_map('Set2', 'qualitative', 3)\n",
    "# colors = bmap.mpl_colors\n",
    "tableau20 = [(31, 119, 180), (44, 160, 44), (255, 127, 14), (255, 187, 120)]    \n",
    "  \n",
    "# Scale the RGB values to the [0, 1] range, which is the format matplotlib accepts.    \n",
    "for i in range(len(tableau20)):\n",
    "    r, g, b = tableau20[i]\n",
    "    tableau20[i] = (r / 255., g / 255., b / 255.)    \n",
    "colors = tableau20\n",
    "    \n",
    "    \n",
    "rounding = pickle.load(open('riemannian_vs_plain_with_val_rounding.pickle', 'rb'))\n",
    "fig = plt.figure()\n",
    "plt.loglog(rounding['plain_sgd'][-1].logger.time_hist,\n",
    "           rounding['plain_sgd'][-1].logger.loss_hist['train']['logistic'], label='Cores GD',\n",
    "           linewidth=2, color=colors[0])\n",
    "plt.loglog(rounding['plain_sgd'][100].logger.time_hist, rounding['plain_sgd'][100].logger.loss_hist['train']['logistic'],\n",
    "           label='Cores SGD 100', linewidth=2, color=colors[1])\n",
    "plt.loglog(rounding['plain_sgd'][500].logger.time_hist, rounding['plain_sgd'][500].logger.loss_hist['train']['logistic'],\n",
    "           label='Cores SGD 500', linewidth=2, color=colors[2])\n",
    "\n",
    "grid = [0.01, 1, 5, 12, 60]\n",
    "x = rounding['riemannian_sgd'][-1].logger.time_hist\n",
    "marker_indices = np.searchsorted(x, grid)\n",
    "plt.loglog(rounding['riemannian_sgd'][-1].logger.time_hist,\n",
    "               rounding['riemannian_sgd'][-1].logger.loss_hist['train']['logistic'], marker='o', markevery=marker_indices, label='Riemann GD', linewidth=2, color=colors[0])\n",
    "grid = [0.05, 2, 6, 12, 40]\n",
    "# grid = np.logspace(-1.0, 1.7, num=6)\n",
    "x = rounding['riemannian_sgd'][100].logger.time_hist\n",
    "marker_indices = np.searchsorted(x, grid)\n",
    "plt.loglog(rounding['riemannian_sgd'][100].logger.time_hist,\n",
    "               rounding['riemannian_sgd'][100].logger.loss_hist['train']['logistic'], marker='o', markevery=marker_indices, label='Riemann 100', linewidth=2, color=colors[1])\n",
    "# grid = np.logspace(-1.5, 1.6, num=6)\n",
    "grid = [0.1, 3, 7.5, 60]\n",
    "x = rounding['riemannian_sgd'][500].logger.time_hist\n",
    "marker_indices = np.searchsorted(x, grid)\n",
    "plt.loglog(rounding['riemannian_sgd'][500].logger.time_hist,\n",
    "               rounding['riemannian_sgd'][500].logger.loss_hist['train']['logistic'], marker='o', markevery=marker_indices, label='Riemann 500', linewidth=2, color=colors[2])\n",
    "\n",
    "legend = plt.legend(loc='upper left', bbox_to_anchor=(1, 1.04), frameon=False)\n",
    "plt.xlabel('time (s)')\n",
    "plt.ylabel('train loss')\n",
    "plt.minorticks_off()\n",
    "ax = plt.gca()\n",
    "ax.set_xlim([0.02, 100])\n",
    "fig.tight_layout()\n",
    "# frame = legend.get_frame()\n",
    "\n",
    "# frame.set_facecolor('0.9')\n",
    "# frame.set_edgecolor('255')"
   ]
  },
  {
   "cell_type": "code",
   "execution_count": 208,
   "metadata": {
    "collapsed": true
   },
   "outputs": [],
   "source": [
    "fig.savefig('riemannian_vs_plain.pdf', bbox_extra_artists=(legend,), bbox_inches='tight')"
   ]
  },
  {
   "cell_type": "code",
   "execution_count": 37,
   "metadata": {
    "collapsed": false
   },
   "outputs": [
    {
     "data": {
      "text/plain": [
       "<matplotlib.text.Text at 0x7fbf42982890>"
      ]
     },
     "execution_count": 37,
     "metadata": {},
     "output_type": "execute_result"
    },
    {
     "data": {
      "image/png": "[encoded data removed]",
      "text/plain": [
       "<matplotlib.figure.Figure at 0x7fbf422d0d50>"
      ]
     },
     "metadata": {},
     "output_type": "display_data"
    }
   ],
   "source": [
    "for batch_size in plain_sgd.keys():\n",
    "    if batch_size == -1:\n",
    "        name = 'GD'\n",
    "    else:\n",
    "        name = 'SGD ' + str(batch_size)\n",
    "    plt.loglog(plain_sgd[batch_size].logger.time_hist, plain_sgd[batch_size].logger.loss_hist['valid']['logistic'], label=name)\n",
    "for batch_size in plain_sgd.keys():\n",
    "    if batch_size == -1:\n",
    "        name = 'Riemannian GD'\n",
    "    else:\n",
    "        name = 'Riemannian SGD ' + str(batch_size)\n",
    "    plt.loglog(riemannian_sgd[batch_size].logger.time_hist, riemannian_sgd[batch_size].logger.loss_hist['valid']['logistic'], label=name)\n",
    "plt.legend(loc='best')\n",
    "plt.xlabel('time (s)')\n",
    "plt.ylabel('val loss')"
   ]
  },
  {
   "cell_type": "code",
   "execution_count": null,
   "metadata": {
    "collapsed": true
   },
   "outputs": [],
   "source": []
  }
 ],
 "metadata": {
  "kernelspec": {
   "display_name": "Python 2",
   "language": "python",
   "name": "python2"
  },
  "language_info": {
   "codemirror_mode": {
    "name": "ipython",
    "version": 2
   },
   "file_extension": ".py",
   "mimetype": "text/x-python",
   "name": "python",
   "nbconvert_exporter": "python",
   "pygments_lexer": "ipython2",
   "version": "2.7.11"
  }
 },
 "nbformat": 4,
 "nbformat_minor": 0
}
